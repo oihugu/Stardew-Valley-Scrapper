{
  "cells": [
    {
      "cell_type": "markdown",
      "metadata": {
        "id": "rDtzfEaRDegL"
      },
      "source": [
        "## StardewValley Wiki Scrapper\n",
        "\n"
      ]
    },
    {
      "cell_type": "markdown",
      "metadata": {
        "id": "9hpFy_swDi4S"
      },
      "source": [
        "### Setup"
      ]
    },
    {
      "cell_type": "code",
      "execution_count": 2,
      "metadata": {
        "id": "S6eN-ff6CkiB"
      },
      "outputs": [],
      "source": [
        "import stars\n",
        "from bs4 import BeautifulSoup\n",
        "import requests as re\n",
        "import pandas as pd\n",
        "import regex\n"
      ]
    },
    {
      "cell_type": "markdown",
      "metadata": {
        "id": "oktfdxl2DiDT"
      },
      "source": [
        "### Infox to DF"
      ]
    },
    {
      "cell_type": "code",
      "execution_count": 3,
      "metadata": {
        "id": "Q4Ysi70dC8Of"
      },
      "outputs": [],
      "source": [
        "soup = BeautifulSoup(re.get('https://stardewvalleywiki.com/Fish_Taco').text)"
      ]
    },
    {
      "cell_type": "code",
      "execution_count": 4,
      "metadata": {
        "id": "2RJX-MdUDAh9"
      },
      "outputs": [],
      "source": [
        "table = soup.find('table', {'id':\"infoboxtable\"})\n",
        "table_lines = table.find_all('tr')"
      ]
    },
    {
      "cell_type": "code",
      "execution_count": 5,
      "metadata": {
        "colab": {
          "base_uri": "https://localhost:8080/"
        },
        "id": "0pI-P9_pGvaA",
        "outputId": "f2e2a39a-680f-4ddf-d7e5-ec20fb739922"
      },
      "outputs": [],
      "source": [
        "table_lines = table.find_all('tr')"
      ]
    },
    {
      "cell_type": "code",
      "execution_count": 6,
      "metadata": {
        "colab": {
          "base_uri": "https://localhost:8080/",
          "height": 318
        },
        "id": "WSo2k0R0Grzw",
        "outputId": "b0d57650-f1eb-4795-d8d6-4898265eb450"
      },
      "outputs": [],
      "source": [
        "data = {'lines': []}\n",
        "\n",
        "detail_flag = True\n",
        "image_flag = True\n",
        "\n",
        "for line in table_lines:\n",
        "    \n",
        "    # Finding the category the line is in\n",
        "    if line.find('td', {\"style\":\"text-align:center; padding-left: 0; padding-right: 0;\"}) != None:\n",
        "        cat_holder = line.find('td', {\"style\":\"text-align:center; padding-left: 0; padding-right: 0;\"}).text.replace('\\n', '')\n",
        "\n",
        "    # Finding the name of the item that the page is about\n",
        "    elif line.find('td', {'id':\"infoboxheader\"}) != None:\n",
        "        data['name'] = line.find('td', {'id':\"infoboxheader\"}).text.replace('\\n', '')\n",
        "    \n",
        "    # Finding the image of the item that the page is about\n",
        "    elif (line.find('img') != None) and (image_flag):\n",
        "        data['image'] = 'https://stardewvalleywiki.com/' + line.find('img')['src']\n",
        "        image_flag = False # This is to make sure that the image is only found once\n",
        "\n",
        "    # Finding the description of the item that the page is about\n",
        "    elif (line.find('td', {'id':\"infoboxdetail\"}) != None) and detail_flag:\n",
        "        data['description'] = line.find('td', {'id':\"infoboxdetail\"}).text.replace('\\n', '')\n",
        "        detail_flag = False # This is to make sure that the description is only found once\n",
        "\n",
        "    # Finding the contents of the infobox lines  \n",
        "    elif line.find('td', {'id': 'infoboxsection'}) != None:\n",
        "        section = line.find('td', {'id': 'infoboxsection'}).text.replace('\\n', '')\n",
        "        detail = line.find('td', {'id': 'infoboxdetail'}).text.replace('\\xa0', '').replace('\\n', '').replace('\\t', '')\n",
        "\n",
        "        # This is specific for the fields with images and values\n",
        "        if section in ['Energy / Health', 'Qi Seasoning']:\n",
        "            detail = stars.items.extract_text_before_image(line)\n",
        "        \n",
        "        # This is specific for the ingredients field\n",
        "        if section == 'Ingredients':\n",
        "            detail = stars.items.ectract_ingredients(line)\n",
        "\n",
        "        data['lines'].append({section: detail})\n",
        "        "
      ]
    },
    {
      "cell_type": "code",
      "execution_count": 7,
      "metadata": {
        "id": "usec8pvQIZZ7"
      },
      "outputs": [
        {
          "data": {
            "text/plain": [
              "{'lines': [{'Source': 'Cooking'},\n",
              "  {'Buff(s)': ' Fishing(+2)'},\n",
              "  {'Buff Duration': ' 7m'},\n",
              "  {'Energy / Health': [['Energy', '165'], ['Health', '74']]},\n",
              "  {'Sell Price': '500g'},\n",
              "  {'Qi Seasoning': [['Energy', '297'],\n",
              "    ['Health', '133'],\n",
              "    ['Fish Taco', '750g']]},\n",
              "  {'Recipe Source(s)': ' Linus(Mail - 7+ )'},\n",
              "  {'Ingredients': [['Tuna', '1'],\n",
              "    ['Tortilla', '1'],\n",
              "    ['Red Cabbage', '1'],\n",
              "    ['Mayonnaise', '1']]}],\n",
              " 'name': 'Fish Taco',\n",
              " 'image': 'https://stardewvalleywiki.com//mediawiki/images/d/d5/Fish_Taco.png',\n",
              " 'description': 'It smells delicious.'}"
            ]
          },
          "execution_count": 7,
          "metadata": {},
          "output_type": "execute_result"
        }
      ],
      "source": [
        "data"
      ]
    },
    {
      "cell_type": "code",
      "execution_count": null,
      "metadata": {
        "id": "kuSOWDSsLEzH"
      },
      "outputs": [],
      "source": []
    },
    {
      "cell_type": "code",
      "execution_count": null,
      "metadata": {
        "id": "m-PcxCv5L0pg"
      },
      "outputs": [],
      "source": []
    },
    {
      "cell_type": "code",
      "execution_count": null,
      "metadata": {
        "id": "dvNX6y5kMGUG"
      },
      "outputs": [],
      "source": []
    },
    {
      "cell_type": "code",
      "execution_count": null,
      "metadata": {
        "colab": {
          "base_uri": "https://localhost:8080/",
          "height": 36
        },
        "id": "_zHETHT_MPq0",
        "outputId": "7c3af03e-831b-4fdc-b1ec-ba173b841a2d"
      },
      "outputs": [],
      "source": []
    },
    {
      "cell_type": "code",
      "execution_count": null,
      "metadata": {
        "id": "kG8y6kBBMxfa"
      },
      "outputs": [],
      "source": []
    },
    {
      "cell_type": "code",
      "execution_count": null,
      "metadata": {},
      "outputs": [],
      "source": []
    }
  ],
  "metadata": {
    "colab": {
      "provenance": []
    },
    "kernelspec": {
      "display_name": "Python 3",
      "name": "python3"
    },
    "language_info": {
      "codemirror_mode": {
        "name": "ipython",
        "version": 3
      },
      "file_extension": ".py",
      "mimetype": "text/x-python",
      "name": "python",
      "nbconvert_exporter": "python",
      "pygments_lexer": "ipython3",
      "version": "3.9.7"
    }
  },
  "nbformat": 4,
  "nbformat_minor": 0
}
