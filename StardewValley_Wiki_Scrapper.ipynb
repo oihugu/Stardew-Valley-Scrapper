{
  "cells": [
    {
      "cell_type": "markdown",
      "metadata": {
        "id": "rDtzfEaRDegL"
      },
      "source": [
        "## StardewValley Wiki Scrapper\n",
        "\n"
      ]
    },
    {
      "cell_type": "markdown",
      "metadata": {
        "id": "9hpFy_swDi4S"
      },
      "source": [
        "### Setup"
      ]
    },
    {
      "cell_type": "code",
      "execution_count": 20,
      "metadata": {
        "id": "S6eN-ff6CkiB"
      },
      "outputs": [
        {
          "name": "stdout",
          "output_type": "stream",
          "text": [
            "The autoreload extension is already loaded. To reload it, use:\n",
            "  %reload_ext autoreload\n"
          ]
        }
      ],
      "source": [
        "%load_ext autoreload\n",
        "%autoreload 2\n",
        "\n",
        "import stars\n",
        "from bs4 import BeautifulSoup\n",
        "import requests as re\n",
        "import pandas as pd\n",
        "import regex"
      ]
    },
    {
      "cell_type": "markdown",
      "metadata": {
        "id": "oktfdxl2DiDT"
      },
      "source": [
        "### Infox to DF"
      ]
    },
    {
      "cell_type": "code",
      "execution_count": 2,
      "metadata": {
        "id": "Q4Ysi70dC8Of"
      },
      "outputs": [],
      "source": [
        "soup = BeautifulSoup(re.get('https://stardewvalleywiki.com/Fish_Taco').text)\n",
        "table = soup.find('table', {'id':\"infoboxtable\"})\n",
        "table_lines = table.find_all('tr')"
      ]
    },
    {
      "cell_type": "code",
      "execution_count": 24,
      "metadata": {
        "colab": {
          "base_uri": "https://localhost:8080/",
          "height": 318
        },
        "id": "WSo2k0R0Grzw",
        "outputId": "b0d57650-f1eb-4795-d8d6-4898265eb450"
      },
      "outputs": [],
      "source": [
        "data = {'lines': {}}\n",
        "\n",
        "detail_flag = True\n",
        "image_flag = True\n",
        "\n",
        "for line in table_lines:\n",
        "    \n",
        "    # Finding the category the line is in\n",
        "    if line.find('td', {\"style\":\"text-align:center; padding-left: 0; padding-right: 0;\"}) != None:\n",
        "        cat_holder = line.find('td', {\"style\":\"text-align:center; padding-left: 0; padding-right: 0;\"}).text.replace('\\n', '')\n",
        "\n",
        "    # Finding the name of the item that the page is about\n",
        "    elif line.find('td', {'id':\"infoboxheader\"}) != None:\n",
        "        data['name'] = line.find('td', {'id':\"infoboxheader\"}).text.replace('\\n', '')\n",
        "    \n",
        "    # Finding the image of the item that the page is about\n",
        "    elif (line.find('img') != None) and (image_flag):\n",
        "        data['image'] = 'https://stardewvalleywiki.com/' + line.find('img')['src']\n",
        "        image_flag = False # This is to make sure that the image is only found once\n",
        "\n",
        "    # Finding the description of the item that the page is about\n",
        "    elif (line.find('td', {'id':\"infoboxdetail\"}) != None) and detail_flag:\n",
        "        data['description'] = line.find('td', {'id':\"infoboxdetail\"}).text.replace('\\n', '')\n",
        "        detail_flag = False # This is to make sure that the description is only found once\n",
        "\n",
        "    # Finding the contents of the infobox lines  \n",
        "    elif line.find('td', {'id': 'infoboxsection'}) != None:\n",
        "        section = line.find('td', {'id': 'infoboxsection'}).text.replace('\\n', '')\n",
        "        detail = stars.items.extract_dynamic(data, line)\n",
        "        data['lines'][section] = detail\n",
        "        "
      ]
    },
    {
      "cell_type": "code",
      "execution_count": 25,
      "metadata": {
        "id": "usec8pvQIZZ7"
      },
      "outputs": [
        {
          "data": {
            "text/plain": [
              "{'lines': {'Source': 'Cooking',\n",
              "  'Buff(s)': {'Fishing': '+2'},\n",
              "  'Buff Duration': ' 7m',\n",
              "  'Energy / Health': {'Energy': '165', 'Health': '74'},\n",
              "  'Sell Price': '500g',\n",
              "  'Qi Seasoning': {'Energy': '297', 'Health': '133', 'Price': '750g'},\n",
              "  'Recipe Source(s)': {'Source': 'Linus', 'Vehicle': 'Mail', 'When': '7+'},\n",
              "  'Ingredients': {'Tuna': '1',\n",
              "   'Tortilla': '1',\n",
              "   'Red Cabbage': '1',\n",
              "   'Mayonnaise': '1'}},\n",
              " 'name': 'Fish Taco',\n",
              " 'image': 'https://stardewvalleywiki.com//mediawiki/images/d/d5/Fish_Taco.png',\n",
              " 'description': 'It smells delicious.'}"
            ]
          },
          "execution_count": 25,
          "metadata": {},
          "output_type": "execute_result"
        }
      ],
      "source": [
        "data"
      ]
    },
    {
      "cell_type": "code",
      "execution_count": null,
      "metadata": {
        "id": "kuSOWDSsLEzH"
      },
      "outputs": [
        {
          "data": {
            "text/plain": [
              "' Fishing(+2)'"
            ]
          },
          "execution_count": 5,
          "metadata": {},
          "output_type": "execute_result"
        }
      ],
      "source": [
        "data['lines']['Buff(s)']"
      ]
    },
    {
      "cell_type": "code",
      "execution_count": null,
      "metadata": {
        "id": "m-PcxCv5L0pg"
      },
      "outputs": [
        {
          "data": {
            "text/plain": [
              "'+2'"
            ]
          },
          "execution_count": 6,
          "metadata": {},
          "output_type": "execute_result"
        }
      ],
      "source": [
        "regex.search(r'(.*)\\(([+-][0-9])\\)', data['lines']['Buff(s)']).group(2)"
      ]
    },
    {
      "cell_type": "code",
      "execution_count": 26,
      "metadata": {
        "id": "dvNX6y5kMGUG"
      },
      "outputs": [
        {
          "data": {
            "text/html": [
              "<div>\n",
              "<style scoped>\n",
              "    .dataframe tbody tr th:only-of-type {\n",
              "        vertical-align: middle;\n",
              "    }\n",
              "\n",
              "    .dataframe tbody tr th {\n",
              "        vertical-align: top;\n",
              "    }\n",
              "\n",
              "    .dataframe thead th {\n",
              "        text-align: right;\n",
              "    }\n",
              "</style>\n",
              "<table border=\"1\" class=\"dataframe\">\n",
              "  <thead>\n",
              "    <tr style=\"text-align: right;\">\n",
              "      <th></th>\n",
              "      <th>lines</th>\n",
              "      <th>name</th>\n",
              "      <th>image</th>\n",
              "      <th>description</th>\n",
              "    </tr>\n",
              "  </thead>\n",
              "  <tbody>\n",
              "    <tr>\n",
              "      <th>Buff Duration</th>\n",
              "      <td>7m</td>\n",
              "      <td>Fish Taco</td>\n",
              "      <td>https://stardewvalleywiki.com//mediawiki/image...</td>\n",
              "      <td>It smells delicious.</td>\n",
              "    </tr>\n",
              "    <tr>\n",
              "      <th>Buff(s)</th>\n",
              "      <td>{'Fishing': '+2'}</td>\n",
              "      <td>Fish Taco</td>\n",
              "      <td>https://stardewvalleywiki.com//mediawiki/image...</td>\n",
              "      <td>It smells delicious.</td>\n",
              "    </tr>\n",
              "    <tr>\n",
              "      <th>Energy / Health</th>\n",
              "      <td>{'Energy': '165', 'Health': '74'}</td>\n",
              "      <td>Fish Taco</td>\n",
              "      <td>https://stardewvalleywiki.com//mediawiki/image...</td>\n",
              "      <td>It smells delicious.</td>\n",
              "    </tr>\n",
              "    <tr>\n",
              "      <th>Ingredients</th>\n",
              "      <td>{'Tuna': '1', 'Tortilla': '1', 'Red Cabbage': ...</td>\n",
              "      <td>Fish Taco</td>\n",
              "      <td>https://stardewvalleywiki.com//mediawiki/image...</td>\n",
              "      <td>It smells delicious.</td>\n",
              "    </tr>\n",
              "    <tr>\n",
              "      <th>Qi Seasoning</th>\n",
              "      <td>{'Energy': '297', 'Health': '133', 'Price': '7...</td>\n",
              "      <td>Fish Taco</td>\n",
              "      <td>https://stardewvalleywiki.com//mediawiki/image...</td>\n",
              "      <td>It smells delicious.</td>\n",
              "    </tr>\n",
              "    <tr>\n",
              "      <th>Recipe Source(s)</th>\n",
              "      <td>{'Source': 'Linus', 'Vehicle': 'Mail', 'When':...</td>\n",
              "      <td>Fish Taco</td>\n",
              "      <td>https://stardewvalleywiki.com//mediawiki/image...</td>\n",
              "      <td>It smells delicious.</td>\n",
              "    </tr>\n",
              "    <tr>\n",
              "      <th>Sell Price</th>\n",
              "      <td>500g</td>\n",
              "      <td>Fish Taco</td>\n",
              "      <td>https://stardewvalleywiki.com//mediawiki/image...</td>\n",
              "      <td>It smells delicious.</td>\n",
              "    </tr>\n",
              "    <tr>\n",
              "      <th>Source</th>\n",
              "      <td>Cooking</td>\n",
              "      <td>Fish Taco</td>\n",
              "      <td>https://stardewvalleywiki.com//mediawiki/image...</td>\n",
              "      <td>It smells delicious.</td>\n",
              "    </tr>\n",
              "  </tbody>\n",
              "</table>\n",
              "</div>"
            ],
            "text/plain": [
              "                                                              lines  \\\n",
              "Buff Duration                                                    7m   \n",
              "Buff(s)                                           {'Fishing': '+2'}   \n",
              "Energy / Health                   {'Energy': '165', 'Health': '74'}   \n",
              "Ingredients       {'Tuna': '1', 'Tortilla': '1', 'Red Cabbage': ...   \n",
              "Qi Seasoning      {'Energy': '297', 'Health': '133', 'Price': '7...   \n",
              "Recipe Source(s)  {'Source': 'Linus', 'Vehicle': 'Mail', 'When':...   \n",
              "Sell Price                                                     500g   \n",
              "Source                                                      Cooking   \n",
              "\n",
              "                       name  \\\n",
              "Buff Duration     Fish Taco   \n",
              "Buff(s)           Fish Taco   \n",
              "Energy / Health   Fish Taco   \n",
              "Ingredients       Fish Taco   \n",
              "Qi Seasoning      Fish Taco   \n",
              "Recipe Source(s)  Fish Taco   \n",
              "Sell Price        Fish Taco   \n",
              "Source            Fish Taco   \n",
              "\n",
              "                                                              image  \\\n",
              "Buff Duration     https://stardewvalleywiki.com//mediawiki/image...   \n",
              "Buff(s)           https://stardewvalleywiki.com//mediawiki/image...   \n",
              "Energy / Health   https://stardewvalleywiki.com//mediawiki/image...   \n",
              "Ingredients       https://stardewvalleywiki.com//mediawiki/image...   \n",
              "Qi Seasoning      https://stardewvalleywiki.com//mediawiki/image...   \n",
              "Recipe Source(s)  https://stardewvalleywiki.com//mediawiki/image...   \n",
              "Sell Price        https://stardewvalleywiki.com//mediawiki/image...   \n",
              "Source            https://stardewvalleywiki.com//mediawiki/image...   \n",
              "\n",
              "                           description  \n",
              "Buff Duration     It smells delicious.  \n",
              "Buff(s)           It smells delicious.  \n",
              "Energy / Health   It smells delicious.  \n",
              "Ingredients       It smells delicious.  \n",
              "Qi Seasoning      It smells delicious.  \n",
              "Recipe Source(s)  It smells delicious.  \n",
              "Sell Price        It smells delicious.  \n",
              "Source            It smells delicious.  "
            ]
          },
          "execution_count": 26,
          "metadata": {},
          "output_type": "execute_result"
        }
      ],
      "source": [
        "pd.DataFrame(data)"
      ]
    },
    {
      "cell_type": "code",
      "execution_count": null,
      "metadata": {
        "colab": {
          "base_uri": "https://localhost:8080/",
          "height": 36
        },
        "id": "_zHETHT_MPq0",
        "outputId": "7c3af03e-831b-4fdc-b1ec-ba173b841a2d"
      },
      "outputs": [],
      "source": []
    },
    {
      "cell_type": "code",
      "execution_count": null,
      "metadata": {
        "id": "kG8y6kBBMxfa"
      },
      "outputs": [],
      "source": []
    },
    {
      "cell_type": "code",
      "execution_count": 2,
      "metadata": {},
      "outputs": [
        {
          "name": "stderr",
          "output_type": "stream",
          "text": [
            "docker: Error response from daemon: Conflict. The container name \"/age\" is already in use by container \"9676ab66658eba74003b5fe38c7b698524e8da861a1c2d4151186bb5f28beee9\". You have to remove (or rename) that container to be able to reuse that name.\n",
            "See 'docker run --help'.\n"
          ]
        }
      ],
      "source": [
        "!docker run \\\n",
        "    --name age  \\\n",
        "    -p 3000:3000 \\\n",
        "    -p 5455:5432 \\\n",
        "    -e POSTGRES_USER=postgresUser \\\n",
        "    -e POSTGRES_PASSWORD=postgresPW \\\n",
        "    -e POSTGRES_DB=postgresDB \\\n",
        "    -d \\\n",
        "    apache/age"
      ]
    },
    {
      "cell_type": "code",
      "execution_count": null,
      "metadata": {},
      "outputs": [],
      "source": []
    }
  ],
  "metadata": {
    "colab": {
      "provenance": []
    },
    "kernelspec": {
      "display_name": "Python 3",
      "name": "python3"
    },
    "language_info": {
      "codemirror_mode": {
        "name": "ipython",
        "version": 3
      },
      "file_extension": ".py",
      "mimetype": "text/x-python",
      "name": "python",
      "nbconvert_exporter": "python",
      "pygments_lexer": "ipython3",
      "version": "3.9.7"
    }
  },
  "nbformat": 4,
  "nbformat_minor": 0
}
